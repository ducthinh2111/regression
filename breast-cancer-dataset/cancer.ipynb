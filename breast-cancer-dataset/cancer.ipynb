{
 "cells": [
  {
   "cell_type": "code",
   "execution_count": 1,
   "metadata": {},
   "outputs": [],
   "source": [
    "import pandas as pd\n",
    "import numpy as np\n",
    "from sklearn import datasets\n",
    "from sklearn.linear_model import LinearRegression\n",
    "from sklearn.metrics import r2_score\n",
    "from sklearn.model_selection import train_test_split\n",
    "from sklearn.metrics import mean_squared_error\n",
    "from sklearn.linear_model import Ridge\n",
    "from sklearn.linear_model import Lasso\n",
    "from sklearn.linear_model import ElasticNet\n",
    "from sklearn.model_selection import train_test_split"
   ]
  },
  {
   "cell_type": "code",
   "execution_count": 2,
   "metadata": {},
   "outputs": [
    {
     "name": "stdout",
     "output_type": "stream",
     "text": [
      "(198, 34)\n"
     ]
    },
    {
     "data": {
      "text/html": [
       "<div>\n",
       "<style scoped>\n",
       "    .dataframe tbody tr th:only-of-type {\n",
       "        vertical-align: middle;\n",
       "    }\n",
       "\n",
       "    .dataframe tbody tr th {\n",
       "        vertical-align: top;\n",
       "    }\n",
       "\n",
       "    .dataframe thead th {\n",
       "        text-align: right;\n",
       "    }\n",
       "</style>\n",
       "<table border=\"1\" class=\"dataframe\">\n",
       "  <thead>\n",
       "    <tr style=\"text-align: right;\">\n",
       "      <th></th>\n",
       "      <th>Colum03</th>\n",
       "      <th>Colum04</th>\n",
       "      <th>Colum05</th>\n",
       "      <th>Colum06</th>\n",
       "      <th>Colum07</th>\n",
       "      <th>Colum08</th>\n",
       "      <th>Colum09</th>\n",
       "      <th>Colum010</th>\n",
       "      <th>Colum011</th>\n",
       "      <th>Colum012</th>\n",
       "      <th>...</th>\n",
       "      <th>Colum027</th>\n",
       "      <th>Colum028</th>\n",
       "      <th>Colum029</th>\n",
       "      <th>Colum030</th>\n",
       "      <th>Colum031</th>\n",
       "      <th>Colum032</th>\n",
       "      <th>Colum033</th>\n",
       "      <th>Colum034</th>\n",
       "      <th>Colum035</th>\n",
       "      <th>Colum02</th>\n",
       "    </tr>\n",
       "  </thead>\n",
       "  <tbody>\n",
       "    <tr>\n",
       "      <th>count</th>\n",
       "      <td>198.000000</td>\n",
       "      <td>198.000000</td>\n",
       "      <td>198.00000</td>\n",
       "      <td>198.000000</td>\n",
       "      <td>198.000000</td>\n",
       "      <td>198.000000</td>\n",
       "      <td>198.000000</td>\n",
       "      <td>198.000000</td>\n",
       "      <td>198.000000</td>\n",
       "      <td>198.000000</td>\n",
       "      <td>...</td>\n",
       "      <td>198.000000</td>\n",
       "      <td>198.000000</td>\n",
       "      <td>198.000000</td>\n",
       "      <td>198.000000</td>\n",
       "      <td>198.000000</td>\n",
       "      <td>198.000000</td>\n",
       "      <td>198.000000</td>\n",
       "      <td>198.000000</td>\n",
       "      <td>198.000000</td>\n",
       "      <td>198.000000</td>\n",
       "    </tr>\n",
       "    <tr>\n",
       "      <th>mean</th>\n",
       "      <td>46.732323</td>\n",
       "      <td>17.412323</td>\n",
       "      <td>22.27601</td>\n",
       "      <td>114.856566</td>\n",
       "      <td>970.040909</td>\n",
       "      <td>0.102525</td>\n",
       "      <td>0.142727</td>\n",
       "      <td>0.156364</td>\n",
       "      <td>0.087020</td>\n",
       "      <td>0.192727</td>\n",
       "      <td>...</td>\n",
       "      <td>1404.958586</td>\n",
       "      <td>0.143939</td>\n",
       "      <td>0.365152</td>\n",
       "      <td>0.436566</td>\n",
       "      <td>0.178737</td>\n",
       "      <td>0.323687</td>\n",
       "      <td>0.090960</td>\n",
       "      <td>2.847475</td>\n",
       "      <td>3.146465</td>\n",
       "      <td>0.237374</td>\n",
       "    </tr>\n",
       "    <tr>\n",
       "      <th>std</th>\n",
       "      <td>34.462870</td>\n",
       "      <td>3.161676</td>\n",
       "      <td>4.29829</td>\n",
       "      <td>21.383402</td>\n",
       "      <td>352.149215</td>\n",
       "      <td>0.013086</td>\n",
       "      <td>0.050052</td>\n",
       "      <td>0.070932</td>\n",
       "      <td>0.034016</td>\n",
       "      <td>0.027898</td>\n",
       "      <td>...</td>\n",
       "      <td>586.006972</td>\n",
       "      <td>0.022522</td>\n",
       "      <td>0.163855</td>\n",
       "      <td>0.173765</td>\n",
       "      <td>0.045251</td>\n",
       "      <td>0.075448</td>\n",
       "      <td>0.021077</td>\n",
       "      <td>1.937964</td>\n",
       "      <td>5.442245</td>\n",
       "      <td>0.426552</td>\n",
       "    </tr>\n",
       "    <tr>\n",
       "      <th>min</th>\n",
       "      <td>1.000000</td>\n",
       "      <td>10.950000</td>\n",
       "      <td>10.38000</td>\n",
       "      <td>71.900000</td>\n",
       "      <td>361.600000</td>\n",
       "      <td>0.070000</td>\n",
       "      <td>0.050000</td>\n",
       "      <td>0.020000</td>\n",
       "      <td>0.020000</td>\n",
       "      <td>0.130000</td>\n",
       "      <td>...</td>\n",
       "      <td>508.100000</td>\n",
       "      <td>0.080000</td>\n",
       "      <td>0.050000</td>\n",
       "      <td>0.020000</td>\n",
       "      <td>0.030000</td>\n",
       "      <td>0.160000</td>\n",
       "      <td>0.060000</td>\n",
       "      <td>0.400000</td>\n",
       "      <td>0.000000</td>\n",
       "      <td>0.000000</td>\n",
       "    </tr>\n",
       "    <tr>\n",
       "      <th>25%</th>\n",
       "      <td>14.000000</td>\n",
       "      <td>15.052500</td>\n",
       "      <td>19.41250</td>\n",
       "      <td>98.160000</td>\n",
       "      <td>702.525000</td>\n",
       "      <td>0.090000</td>\n",
       "      <td>0.110000</td>\n",
       "      <td>0.110000</td>\n",
       "      <td>0.060000</td>\n",
       "      <td>0.170000</td>\n",
       "      <td>...</td>\n",
       "      <td>947.275000</td>\n",
       "      <td>0.130000</td>\n",
       "      <td>0.250000</td>\n",
       "      <td>0.320000</td>\n",
       "      <td>0.150000</td>\n",
       "      <td>0.280000</td>\n",
       "      <td>0.080000</td>\n",
       "      <td>1.500000</td>\n",
       "      <td>0.000000</td>\n",
       "      <td>0.000000</td>\n",
       "    </tr>\n",
       "    <tr>\n",
       "      <th>50%</th>\n",
       "      <td>39.500000</td>\n",
       "      <td>17.290000</td>\n",
       "      <td>21.75000</td>\n",
       "      <td>113.700000</td>\n",
       "      <td>929.100000</td>\n",
       "      <td>0.100000</td>\n",
       "      <td>0.130000</td>\n",
       "      <td>0.150000</td>\n",
       "      <td>0.090000</td>\n",
       "      <td>0.190000</td>\n",
       "      <td>...</td>\n",
       "      <td>1295.000000</td>\n",
       "      <td>0.140000</td>\n",
       "      <td>0.350000</td>\n",
       "      <td>0.400000</td>\n",
       "      <td>0.180000</td>\n",
       "      <td>0.310000</td>\n",
       "      <td>0.090000</td>\n",
       "      <td>2.500000</td>\n",
       "      <td>1.000000</td>\n",
       "      <td>0.000000</td>\n",
       "    </tr>\n",
       "    <tr>\n",
       "      <th>75%</th>\n",
       "      <td>72.750000</td>\n",
       "      <td>19.580000</td>\n",
       "      <td>24.65500</td>\n",
       "      <td>129.650000</td>\n",
       "      <td>1193.500000</td>\n",
       "      <td>0.110000</td>\n",
       "      <td>0.170000</td>\n",
       "      <td>0.200000</td>\n",
       "      <td>0.100000</td>\n",
       "      <td>0.210000</td>\n",
       "      <td>...</td>\n",
       "      <td>1694.250000</td>\n",
       "      <td>0.157500</td>\n",
       "      <td>0.420000</td>\n",
       "      <td>0.540000</td>\n",
       "      <td>0.210000</td>\n",
       "      <td>0.360000</td>\n",
       "      <td>0.100000</td>\n",
       "      <td>3.500000</td>\n",
       "      <td>4.000000</td>\n",
       "      <td>0.000000</td>\n",
       "    </tr>\n",
       "    <tr>\n",
       "      <th>max</th>\n",
       "      <td>125.000000</td>\n",
       "      <td>27.220000</td>\n",
       "      <td>39.28000</td>\n",
       "      <td>182.100000</td>\n",
       "      <td>2250.000000</td>\n",
       "      <td>0.140000</td>\n",
       "      <td>0.310000</td>\n",
       "      <td>0.430000</td>\n",
       "      <td>0.200000</td>\n",
       "      <td>0.300000</td>\n",
       "      <td>...</td>\n",
       "      <td>3903.000000</td>\n",
       "      <td>0.220000</td>\n",
       "      <td>1.060000</td>\n",
       "      <td>1.170000</td>\n",
       "      <td>0.290000</td>\n",
       "      <td>0.660000</td>\n",
       "      <td>0.210000</td>\n",
       "      <td>10.000000</td>\n",
       "      <td>27.000000</td>\n",
       "      <td>1.000000</td>\n",
       "    </tr>\n",
       "  </tbody>\n",
       "</table>\n",
       "<p>8 rows × 34 columns</p>\n",
       "</div>"
      ],
      "text/plain": [
       "          Colum03     Colum04    Colum05     Colum06      Colum07     Colum08  \\\n",
       "count  198.000000  198.000000  198.00000  198.000000   198.000000  198.000000   \n",
       "mean    46.732323   17.412323   22.27601  114.856566   970.040909    0.102525   \n",
       "std     34.462870    3.161676    4.29829   21.383402   352.149215    0.013086   \n",
       "min      1.000000   10.950000   10.38000   71.900000   361.600000    0.070000   \n",
       "25%     14.000000   15.052500   19.41250   98.160000   702.525000    0.090000   \n",
       "50%     39.500000   17.290000   21.75000  113.700000   929.100000    0.100000   \n",
       "75%     72.750000   19.580000   24.65500  129.650000  1193.500000    0.110000   \n",
       "max    125.000000   27.220000   39.28000  182.100000  2250.000000    0.140000   \n",
       "\n",
       "          Colum09    Colum010    Colum011    Colum012  ...     Colum027  \\\n",
       "count  198.000000  198.000000  198.000000  198.000000  ...   198.000000   \n",
       "mean     0.142727    0.156364    0.087020    0.192727  ...  1404.958586   \n",
       "std      0.050052    0.070932    0.034016    0.027898  ...   586.006972   \n",
       "min      0.050000    0.020000    0.020000    0.130000  ...   508.100000   \n",
       "25%      0.110000    0.110000    0.060000    0.170000  ...   947.275000   \n",
       "50%      0.130000    0.150000    0.090000    0.190000  ...  1295.000000   \n",
       "75%      0.170000    0.200000    0.100000    0.210000  ...  1694.250000   \n",
       "max      0.310000    0.430000    0.200000    0.300000  ...  3903.000000   \n",
       "\n",
       "         Colum028    Colum029    Colum030    Colum031    Colum032    Colum033  \\\n",
       "count  198.000000  198.000000  198.000000  198.000000  198.000000  198.000000   \n",
       "mean     0.143939    0.365152    0.436566    0.178737    0.323687    0.090960   \n",
       "std      0.022522    0.163855    0.173765    0.045251    0.075448    0.021077   \n",
       "min      0.080000    0.050000    0.020000    0.030000    0.160000    0.060000   \n",
       "25%      0.130000    0.250000    0.320000    0.150000    0.280000    0.080000   \n",
       "50%      0.140000    0.350000    0.400000    0.180000    0.310000    0.090000   \n",
       "75%      0.157500    0.420000    0.540000    0.210000    0.360000    0.100000   \n",
       "max      0.220000    1.060000    1.170000    0.290000    0.660000    0.210000   \n",
       "\n",
       "         Colum034    Colum035     Colum02  \n",
       "count  198.000000  198.000000  198.000000  \n",
       "mean     2.847475    3.146465    0.237374  \n",
       "std      1.937964    5.442245    0.426552  \n",
       "min      0.400000    0.000000    0.000000  \n",
       "25%      1.500000    0.000000    0.000000  \n",
       "50%      2.500000    1.000000    0.000000  \n",
       "75%      3.500000    4.000000    0.000000  \n",
       "max     10.000000   27.000000    1.000000  \n",
       "\n",
       "[8 rows x 34 columns]"
      ]
     },
     "execution_count": 2,
     "metadata": {},
     "output_type": "execute_result"
    }
   ],
   "source": [
    "data = pd.read_csv('breast-cancer-wisconsin.csv') \n",
    "print(data.shape)\n",
    "data.describe()"
   ]
  },
  {
   "cell_type": "code",
   "execution_count": 3,
   "metadata": {},
   "outputs": [],
   "source": [
    "target_column = data.columns[33]\n",
    "predictors = list(set(list(data.columns))-set(target_column))\n",
    "data[predictors] = data[predictors]/data[predictors].max()"
   ]
  },
  {
   "cell_type": "code",
   "execution_count": 4,
   "metadata": {},
   "outputs": [
    {
     "name": "stdout",
     "output_type": "stream",
     "text": [
      "(138, 34)\n",
      "(60, 34)\n"
     ]
    }
   ],
   "source": [
    "X = data[predictors].values\n",
    "y = data[target_column].to_numpy().flatten()\n",
    "\n",
    "X_train, X_test, y_train, y_test = train_test_split(X, y, test_size=0.30, random_state=40)\n",
    "print(X_train.shape); print(X_test.shape)"
   ]
  },
  {
   "cell_type": "code",
   "execution_count": 5,
   "metadata": {},
   "outputs": [
    {
     "data": {
      "text/plain": [
       "LinearRegression(n_jobs=1)"
      ]
     },
     "execution_count": 5,
     "metadata": {},
     "output_type": "execute_result"
    }
   ],
   "source": [
    "# Linear\n",
    "lr = LinearRegression(copy_X=True, fit_intercept=True, n_jobs=1, normalize=False)\n",
    "lr.fit(X_train, y_train)"
   ]
  },
  {
   "cell_type": "code",
   "execution_count": 6,
   "metadata": {},
   "outputs": [
    {
     "name": "stdout",
     "output_type": "stream",
     "text": [
      "MSE:\n",
      "3.6189118561916315e-16\n",
      "RSS:\n",
      "1.0\n"
     ]
    }
   ],
   "source": [
    "pred_test_lr= lr.predict(X_test)\n",
    "print(\"MSE:\")\n",
    "print(np.sqrt(mean_squared_error(y_test,pred_test_lr))) \n",
    "print(\"RSS:\")\n",
    "print(r2_score(y_test, pred_test_lr))"
   ]
  },
  {
   "cell_type": "code",
   "execution_count": 7,
   "metadata": {},
   "outputs": [
    {
     "name": "stdout",
     "output_type": "stream",
     "text": [
      "-----------------------------\n",
      "|Ridge Regression Algorithm|\n",
      "-----------------------------\n",
      "MSE:  0.0003280759937880675\n",
      "RSS:  0.9999995025906447\n"
     ]
    }
   ],
   "source": [
    "# Ridge\n",
    "rr = Ridge(alpha=0.01)\n",
    "rr.fit(X_train, y_train) \n",
    "\n",
    "pred_test_rr= rr.predict(X_test)\n",
    "print(\"-----------------------------\\n|Ridge Regression Algorithm|\\n-----------------------------\")\n",
    "print(\"MSE: \",np.sqrt(mean_squared_error(y_test,pred_test_rr))) \n",
    "print(\"RSS: \",r2_score(y_test, pred_test_rr))"
   ]
  },
  {
   "cell_type": "code",
   "execution_count": 8,
   "metadata": {},
   "outputs": [
    {
     "name": "stdout",
     "output_type": "stream",
     "text": [
      "MSE:\n",
      "0.029610098682781368\n",
      "RSS:\n",
      "0.9959482302972855\n"
     ]
    }
   ],
   "source": [
    "# Lasso\n",
    "model_lasso = Lasso(alpha=0.01)\n",
    "model_lasso.fit(X_train, y_train) \n",
    "\n",
    "pred_test_lasso= model_lasso.predict(X_test)\n",
    "print(\"MSE:\")\n",
    "print(np.sqrt(mean_squared_error(y_test,pred_test_lasso))) \n",
    "print(\"RSS:\")\n",
    "print(r2_score(y_test, pred_test_lasso))"
   ]
  },
  {
   "cell_type": "code",
   "execution_count": 17,
   "metadata": {},
   "outputs": [
    {
     "name": "stdout",
     "output_type": "stream",
     "text": [
      "MSE:\n",
      "0.028722137030809444\n",
      "RSS:\n",
      "0.9961875992808475\n"
     ]
    }
   ],
   "source": [
    "# Elastic net\n",
    "model_enet = ElasticNet(alpha = 0.01)\n",
    "model_enet.fit(X_train, y_train)\n",
    "\n",
    "pred_test_enet= model_enet.predict(X_test)\n",
    "print(\"MSE:\")\n",
    "print(np.sqrt(mean_squared_error(y_test,pred_test_enet))) \n",
    "print(\"RSS:\")\n",
    "print(r2_score(y_test, pred_test_enet))"
   ]
  },
  {
   "cell_type": "code",
   "execution_count": null,
   "metadata": {},
   "outputs": [],
   "source": []
  },
  {
   "cell_type": "code",
   "execution_count": null,
   "metadata": {},
   "outputs": [],
   "source": []
  },
  {
   "cell_type": "code",
   "execution_count": null,
   "metadata": {},
   "outputs": [],
   "source": []
  }
 ],
 "metadata": {
  "kernelspec": {
   "display_name": "Python 3",
   "language": "python",
   "name": "python3"
  },
  "language_info": {
   "codemirror_mode": {
    "name": "ipython",
    "version": 3
   },
   "file_extension": ".py",
   "mimetype": "text/x-python",
   "name": "python",
   "nbconvert_exporter": "python",
   "pygments_lexer": "ipython3",
   "version": "3.8.3"
  }
 },
 "nbformat": 4,
 "nbformat_minor": 4
}
